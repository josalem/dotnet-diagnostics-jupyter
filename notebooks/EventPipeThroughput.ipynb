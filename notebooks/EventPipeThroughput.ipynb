{
 "cells": [
  {
   "cell_type": "markdown",
   "metadata": {},
   "source": [
    "# EventPipe Throughput Testing\n",
    "\n",
    "The cells below can be pointed at a process and will bucket event counts into \"seconds since start of trace\".  This will output a graph of Events Per Second."
   ]
  },
  {
   "cell_type": "code",
   "execution_count": null,
   "metadata": {},
   "outputs": [],
   "source": [
    "#r \"nuget:Microsoft.Diagnostics.NETCore.Client,0.2.61701\"\n",
    "#r \"nuget:Microsoft.Diagnostics.Tracing.TraceEvent,2.0.49\"\n",
    "\n",
    "\n",
    "using Microsoft.Diagnostics.NETCore.Client;\n",
    "using System.Diagnostics;\n",
    "using Microsoft.Diagnostics.Tracing;\n",
    "using Microsoft.Diagnostics.Tracing.Parsers;\n",
    "using Microsoft.Diagnostics.Tracing.Parsers.Clr;\n",
    "using System.Threading.Tasks;\n",
    "using System.Collections.Generic;\n",
    "using System.Linq;\n",
    "using XPlot.Plotly;"
   ]
  },
  {
   "cell_type": "markdown",
   "metadata": {},
   "source": [
    "Change the value of `procName` to the name of your process.\n",
    "\n",
    "Alternatively, use a different identifier, e.g., PID, to find your target."
   ]
  },
  {
   "cell_type": "code",
   "execution_count": null,
   "metadata": {},
   "outputs": [],
   "source": [
    "// Put your process name here\n",
    "var procName = \"ConsoleApp\";\n",
    "\n",
    "var availableProcs = DiagnosticsClient.GetPublishedProcesses()\n",
    "    .Select(x => Process.GetProcessById(x))\n",
    "    .Select(p => new { name = p.ProcessName, id = p.Id, module = p.MainModule.FileName });\n",
    "\n",
    "foreach (var p in availableProcs)\n",
    "    display(p);"
   ]
  },
  {
   "cell_type": "markdown",
   "metadata": {},
   "source": [
    "The cell below will create an EventPipe session looking for a provider named `MySource`.  Change the provider list for testing different combinations of providers.\n",
    "\n",
    "The callback for `EventPipeEventSource` buckets all events to the second in the trace in which they happened."
   ]
  },
  {
   "cell_type": "code",
   "execution_count": null,
   "metadata": {},
   "outputs": [],
   "source": [
    "var client = new DiagnosticsClient(availableProcs.Where(p => p.name == procName).FirstOrDefault()?.id ?? -1);\n",
    "var session = client.StartEventPipeSession(\n",
    "    providers: new List<EventPipeProvider> \n",
    "    { \n",
    "        // new EventPipeProvider(\"Microsoft-Windows-DotNETRuntime\", System.Diagnostics.Tracing.EventLevel.Verbose, (long)(-1)),\n",
    "        // new EventPipeProvider(\"Microsoft-DotNETCore-SampleProfiler\", System.Diagnostics.Tracing.EventLevel.Verbose, (long)(-1)),\n",
    "        new EventPipeProvider(\"MySource\", System.Diagnostics.Tracing.EventLevel.Verbose, (long)(-1))\n",
    "    }\n",
    ");\n",
    "\n",
    "var eventDict = new Dictionary<double, int>();\n",
    "\n",
    "var source = new EventPipeEventSource(session.EventStream);\n",
    "Action<TraceEvent> processEvent = (TraceEvent obj) =>\n",
    "{\n",
    "    var t = Math.Truncate(obj.TimeStamp.TimeOfDay.TotalSeconds);\n",
    "    \n",
    "    if (eventDict.TryGetValue(t, out var count))\n",
    "    {\n",
    "        eventDict[t] += 1;\n",
    "    }\n",
    "    else\n",
    "    {\n",
    "        eventDict[t] = 1;\n",
    "    }\n",
    "};\n",
    "\n",
    "source.Dynamic.All += processEvent;\n",
    "\n",
    "var readTask = Task.Run(() => \n",
    "{\n",
    "    try\n",
    "    {\n",
    "        source.Process();\n",
    "    }\n",
    "    catch (Exception e)\n",
    "    {\n",
    "        display(e);\n",
    "    }\n",
    "});\n",
    "    \n",
    "\n",
    "Task.Delay(TimeSpan.FromMinutes(7)).Wait();\n",
    "// source.StopProcessing();\n",
    "session.Stop();\n",
    "display(\"Stopping\");\n",
    "readTask.Wait();\n",
    "display(\"Stopped\");"
   ]
  },
  {
   "cell_type": "code",
   "execution_count": null,
   "metadata": {},
   "outputs": [],
   "source": [
    "// use this cell for debugging your data\n",
    "foreach (var (key,val) in eventDict)\n",
    "{\n",
    "    display($\"{key}, {val}\");\n",
    "}"
   ]
  },
  {
   "cell_type": "code",
   "execution_count": null,
   "metadata": {},
   "outputs": [],
   "source": [
    "// Plot the Events/Second data.\n",
    "Chart.Plot(\n",
    "    new Graph.Scatter()\n",
    "    {\n",
    "        y = eventDict.Values\n",
    "    }\n",
    ")"
   ]
  },
  {
   "cell_type": "code",
   "execution_count": null,
   "metadata": {
    "scrolled": true
   },
   "outputs": [],
   "source": [
    "// Use this cell for exporting your data to a string for easy re-use\n",
    "\n",
    "using System.Text.Json;\n",
    "using System.Text.Json.Serialization;\n",
    "\n",
    "var timeSeriesData = eventDict.Select((kv, _) => kv.Value);\n",
    "\n",
    "string str = JsonSerializer.Serialize(timeSeriesData);\n",
    "display(str);"
   ]
  }
 ],
 "metadata": {
  "kernelspec": {
   "display_name": ".NET (C#)",
   "language": "C#",
   "name": ".net-csharp"
  },
  "language_info": {
   "file_extension": ".cs",
   "mimetype": "text/x-csharp",
   "name": "C#",
   "pygments_lexer": "csharp",
   "version": "8.0"
  }
 },
 "nbformat": 4,
 "nbformat_minor": 2
}
