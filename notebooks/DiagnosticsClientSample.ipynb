{
 "cells": [
  {
   "cell_type": "code",
   "execution_count": null,
   "metadata": {},
   "outputs": [],
   "source": [
    "#r \"nuget:Microsoft.Diagnostics.NETCore.Client,0.2.61701\"\n",
    "using Microsoft.Diagnostics.NETCore.Client;\n",
    "using System.Diagnostics;\n",
    "using System.Linq;\n",
    "\n",
    "var availableProcs = DiagnosticsClient.GetPublishedProcesses()\n",
    "    .Select(x => Process.GetProcessById(x))\n",
    "    .Select(p => new { name = p.ProcessName, id = p.Id, module = p.MainModule.FileName });\n",
    "\n",
    "foreach (var p in availableProcs)\n",
    "    display(p);"
   ]
  },
  {
   "cell_type": "code",
   "execution_count": null,
   "metadata": {},
   "outputs": [],
   "source": [
    "#r \"nuget:Microsoft.Diagnostics.Tracing.TraceEvent,2.0.49\"\n",
    "#r \"nuget:Microsoft.Diagnostics.NETCore.Client,0.2.61701\"\n",
    "\n",
    "using Microsoft.Diagnostics.NETCore.Client;\n",
    "using System.Diagnostics;\n",
    "using Microsoft.Diagnostics.Tracing;\n",
    "using Microsoft.Diagnostics.Tracing.Parsers;\n",
    "using System.Threading.Tasks;\n",
    "\n",
    "var client = new DiagnosticsClient(availableProcs.Where(p => p.name == \"ConsoleApp\").FirstOrDefault()?.id ?? -1);\n",
    "var session = client.StartEventPipeSession(\n",
    "    providers: new List<EventPipeProvider> \n",
    "    { \n",
    "        new EventPipeProvider(\"Microsoft-Windows-DotNETRuntime\", System.Diagnostics.Tracing.EventLevel.Verbose, (long)(-1))\n",
    "    }\n",
    ");\n",
    "\n",
    "var source = new EventPipeEventSource(session.EventStream);\n",
    "source.Clr.All += (TraceEvent obj) =>\n",
    "{\n",
    "    display(obj.Dump());\n",
    "    display(obj);\n",
    "};\n",
    "\n",
    "var readTask = Task.Run(() => source.Process());\n",
    "\n",
    "Task.Delay(TimeSpan.FromSeconds(1)).Wait();\n",
    "// source.StopProcessing();\n",
    "session.Stop();\n",
    "display(\"Stopping\");\n",
    "readTask.Wait();\n",
    "display(\"Stopped\");"
   ]
  },
  {
   "cell_type": "code",
   "execution_count": null,
   "metadata": {},
   "outputs": [],
   "source": []
  }
 ],
 "metadata": {
  "kernelspec": {
   "display_name": ".NET (C#)",
   "language": "C#",
   "name": ".net-csharp"
  },
  "language_info": {
   "file_extension": ".cs",
   "mimetype": "text/x-csharp",
   "name": "C#",
   "pygments_lexer": "csharp",
   "version": "8.0"
  }
 },
 "nbformat": 4,
 "nbformat_minor": 2
}
