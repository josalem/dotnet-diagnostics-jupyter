{
 "cells": [
  {
   "cell_type": "code",
   "execution_count": null,
   "metadata": {},
   "outputs": [],
   "source": [
    "#r \"nuget:Microsoft.Diagnostics.NETCore.Client,0.2.61701\"\n",
    "#r \"nuget:Microsoft.Diagnostics.Tracing.TraceEvent,2.0.49\"\n",
    "\n",
    "\n",
    "using Microsoft.Diagnostics.NETCore.Client;\n",
    "using System.Diagnostics;\n",
    "using Microsoft.Diagnostics.Tracing;\n",
    "using Microsoft.Diagnostics.Tracing.Parsers;\n",
    "using Microsoft.Diagnostics.Tracing.Parsers.Clr;\n",
    "using System.Threading.Tasks;\n",
    "using System.Collections.Generic;\n",
    "using System.Linq;\n",
    "using XPlot.Plotly;"
   ]
  },
  {
   "cell_type": "code",
   "execution_count": null,
   "metadata": {},
   "outputs": [],
   "source": [
    "// Put your process name here\n",
    "var procName = \"ConsoleApp\";\n",
    "\n",
    "var availableProcs = DiagnosticsClient.GetPublishedProcesses()\n",
    "    .Select(x => Process.GetProcessById(x))\n",
    "    .Select(p => new { name = p.ProcessName, id = p.Id, module = p.MainModule.FileName });\n",
    "\n",
    "foreach (var p in availableProcs)\n",
    "    display(p);"
   ]
  },
  {
   "cell_type": "code",
   "execution_count": null,
   "metadata": {},
   "outputs": [],
   "source": [
    "var client = new DiagnosticsClient(availableProcs.Where(p => p.name == procName).FirstOrDefault()?.id ?? -1);\n",
    "var session = client.StartEventPipeSession(\n",
    "    providers: new List<EventPipeProvider> \n",
    "    { \n",
    "        new EventPipeProvider(\"Microsoft-Windows-DotNETRuntime\", System.Diagnostics.Tracing.EventLevel.Verbose, (long)(-1))\n",
    "    }\n",
    ");\n",
    "\n",
    "var eventDict = new Dictionary<string, List<TraceEvent>>();\n",
    "\n",
    "var source = new EventPipeEventSource(session.EventStream);\n",
    "Action<TraceEvent> processEvent = (TraceEvent obj) =>\n",
    "{\n",
    "    if (eventDict.TryGetValue(obj.EventName, out var eventList))\n",
    "    {\n",
    "        eventList.Add(obj.Clone());\n",
    "    }\n",
    "    else\n",
    "    {\n",
    "        eventDict.Add(obj.EventName, new List<TraceEvent> { obj.Clone() });\n",
    "    }\n",
    "};\n",
    "\n",
    "var rundownParser = new ClrRundownTraceEventParser(source);\n",
    "rundownParser.All += processEvent;\n",
    "source.Clr.All += processEvent;\n",
    "\n",
    "var readTask = Task.Run(() => \n",
    "{\n",
    "    try\n",
    "    {\n",
    "        source.Process();\n",
    "    }\n",
    "    catch (Exception e)\n",
    "    {\n",
    "        display(e);\n",
    "    }\n",
    "});\n",
    "    \n",
    "\n",
    "Task.Delay(TimeSpan.FromSeconds(10)).Wait();\n",
    "// source.StopProcessing();|\n",
    "session.Stop();\n",
    "display(\"Stopping\");\n",
    "readTask.Wait();\n",
    "display(\"Stopped\");"
   ]
  },
  {
   "cell_type": "code",
   "execution_count": null,
   "metadata": {},
   "outputs": [],
   "source": [
    "foreach (var (key,val) in eventDict)\n",
    "{\n",
    "    display($\"{key}, {val.Count}\");\n",
    "}"
   ]
  },
  {
   "cell_type": "code",
   "execution_count": null,
   "metadata": {},
   "outputs": [],
   "source": [
    "Chart.Plot(\n",
    "    new Graph.Bar()\n",
    "    {\n",
    "        y = eventDict.Values.Select(x => x.Count).ToArray(),\n",
    "        x = eventDict.Keys\n",
    "    }\n",
    ")"
   ]
  },
  {
   "cell_type": "code",
   "execution_count": null,
   "metadata": {},
   "outputs": [],
   "source": []
  }
 ],
 "metadata": {
  "kernelspec": {
   "display_name": ".NET (C#)",
   "language": "C#",
   "name": ".net-csharp"
  },
  "language_info": {
   "file_extension": ".cs",
   "mimetype": "text/x-csharp",
   "name": "C#",
   "pygments_lexer": "csharp",
   "version": "8.0"
  }
 },
 "nbformat": 4,
 "nbformat_minor": 2
}
